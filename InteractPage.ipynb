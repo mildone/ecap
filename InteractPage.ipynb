{
 "cells": [
  {
   "cell_type": "code",
   "execution_count": 1,
   "metadata": {
    "collapsed": true
   },
   "outputs": [],
   "source": [
    "from ipywidgets import interact"
   ]
  },
  {
   "cell_type": "code",
   "execution_count": 14,
   "metadata": {
    "collapsed": true
   },
   "outputs": [],
   "source": [
    "import ipywidgets as widgets\n",
    "from ipywidgets import *"
   ]
  },
  {
   "cell_type": "code",
   "execution_count": 18,
   "metadata": {},
   "outputs": [],
   "source": [
    "import core.Util as util"
   ]
  },
  {
   "cell_type": "code",
   "execution_count": 102,
   "metadata": {},
   "outputs": [
    {
     "data": {
      "application/vnd.jupyter.widget-view+json": {
       "model_id": "c53afff3657541a7ae1c73f065239869",
       "version_major": 2,
       "version_minor": 0
      },
      "text/plain": [
       "interactive(children=(Dropdown(description='industry', options=('建筑材料I', '医药生物I', '公用事业I', '计算机I', '房地产I', '电子…"
      ]
     },
     "metadata": {},
     "output_type": "display_data"
    }
   ],
   "source": [
    "import monitor.TrendRank as tr\n",
    "from datetime import datetime\n",
    "et = datetime.strftime(datetime.today(), '%Y-%m-%d')\n",
    "m = tr.formIndustry('/Users/jiangyongnan/Downloads/zz800.csv')\n",
    "ind = []\n",
    "for i in m: \n",
    "    ind.append(i)\n",
    "w = widgets.IntSlider(value=1, min=0, max=40)\n",
    "@interact\n",
    "def sortRank(industry=ind,length=w):\n",
    "    codes = m.get(industry)\n",
    "    res = tr.TrendRankCodes(codes)\n",
    "    res = res.sort_values(by=['date','CS','SM'],axis=0,ascending=[True,True,True])\n",
    "    print(w)\n",
    "    if(w.value==0 or w.value>len(codes)):\n",
    "        return res.loc[(res.index.get_level_values('date') >= et)]\n",
    "    elif(w.value<len(codes)):\n",
    "        return res.loc[(res.index.get_level_values('date') >= et)][0-w.value:]\n"
   ]
  },
  {
   "cell_type": "code",
   "execution_count": 103,
   "metadata": {},
   "outputs": [
    {
     "data": {
      "application/vnd.jupyter.widget-view+json": {
       "model_id": "8b76ab73232746e6ade21b627c77c23e",
       "version_major": 2,
       "version_minor": 0
      },
      "text/plain": [
       "Tab(children=(VBox(children=(Dropdown(description='code', options=('600089', '002415', '515880', '002791', '60…"
      ]
     },
     "metadata": {},
     "output_type": "display_data"
    }
   ],
   "source": [
    "\n",
    "tab_nest = widgets.Tab()\n",
    "tab_nest.set_title(0,'Single Monitor')\n",
    "#m=widgets.HBox([type, code,cg,st])\n",
    "#out = widgets.interactive_output(func,{'ty':m.children[0],'code':code,'st':st,'cg':cg})\n",
    "period = [15,20,30,60,120]\n",
    "f = interactive(util.forceANA,code=['600089','002415','515880','002791','600881','000786'],ty=['EA','EMA'],zo=[300,500,100],\n",
    "             cg=['stock','index'],pt=['SM','SML'],st=period,mi=period,ln=period)\n",
    "\n",
    "tab_nest.children = [widgets.VBox(children=f.children)]\n",
    "\n",
    "#display(m,out)\n",
    "display(tab_nest)\n",
    "\n",
    "\n",
    "\n",
    "\n",
    "#y=interact(util.forceANA,code=['600089','002415','515880'],ty=['EA','EMA'],zo=[300,500,100],cg=['stock','index'],pt=['SM','SML'],st=period,\n",
    "#         mi=period,ln=period)\n",
    "#display(y)"
   ]
  },
  {
   "cell_type": "code",
   "execution_count": 5,
   "metadata": {
    "collapsed": true
   },
   "outputs": [],
   "source": []
  },
  {
   "cell_type": "code",
   "execution_count": 93,
   "metadata": {},
   "outputs": [
    {
     "data": {
      "application/vnd.jupyter.widget-view+json": {
       "model_id": "ad667c5a44b849fbbf3ffb2ddd8f5391",
       "version_major": 2,
       "version_minor": 0
      },
      "text/plain": [
       "Tab(children=(VBox(children=(Dropdown(description='code', options=('002230', '600019'), value='002230'), Text(…"
      ]
     },
     "metadata": {},
     "output_type": "display_data"
    }
   ],
   "source": [
    "\n",
    "import monitor.CompView as cv\n",
    "#left_box = VBox([items[0], items[1]])\n",
    "#right_box = VBox([items[2], items[3]])\n",
    "tab_nest = widgets.Tab()\n",
    "tab_nest.set_title(0,'Single Monitor')\n",
    "#m=widgets.HBox([type, code,cg,st])\n",
    "#out = widgets.interactive_output(func,{'ty':m.children[0],'code':code,'st':st,'cg':cg})\n",
    "f = interactive(cv.compView,code=['002230','600019'],start='2019-06-01',end='cur')\n",
    "\n",
    "tab_nest.children = [widgets.VBox(children=f.children)]\n",
    "\n",
    "#display(m,out)\n",
    "display(tab_nest)\n",
    "\n",
    "#y = interact(cv.compView,code=['002415','600019'],start='2019-06-01',end='cur')\n",
    "#display(y)"
   ]
  },
  {
   "cell_type": "code",
   "execution_count": null,
   "metadata": {},
   "outputs": [],
   "source": []
  },
  {
   "cell_type": "code",
   "execution_count": null,
   "metadata": {},
   "outputs": [],
   "source": []
  },
  {
   "cell_type": "code",
   "execution_count": null,
   "metadata": {},
   "outputs": [],
   "source": []
  },
  {
   "cell_type": "code",
   "execution_count": null,
   "metadata": {
    "collapsed": true
   },
   "outputs": [],
   "source": []
  }
 ],
 "metadata": {
  "kernelspec": {
   "display_name": "Python 3",
   "language": "python",
   "name": "python3"
  },
  "language_info": {
   "codemirror_mode": {
    "name": "ipython",
    "version": 3
   },
   "file_extension": ".py",
   "mimetype": "text/x-python",
   "name": "python",
   "nbconvert_exporter": "python",
   "pygments_lexer": "ipython3",
   "version": "3.6.2"
  }
 },
 "nbformat": 4,
 "nbformat_minor": 2
}
